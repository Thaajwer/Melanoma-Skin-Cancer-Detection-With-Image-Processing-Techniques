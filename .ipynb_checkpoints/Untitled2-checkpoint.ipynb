{
 "cells": [
  {
   "cell_type": "code",
   "execution_count": 1,
   "metadata": {},
   "outputs": [],
   "source": [
    "import os\n",
    "import cv2\n",
    "import numpy as np\n",
    "import pandas as pd\n",
    "import mahotas as mt\n",
    "from matplotlib import pyplot as plt\n",
    "%matplotlib inline"
   ]
  },
  {
   "cell_type": "code",
   "execution_count": 4,
   "metadata": {},
   "outputs": [],
   "source": [
    "ds_path = \"Skin Data\"\n",
    "img_files = os.listdir(ds_path)"
   ]
  },
  {
   "cell_type": "code",
   "execution_count": 10,
   "metadata": {},
   "outputs": [],
   "source": [
    "def create_dataset():\n",
    "    names = [\n",
    "             'contrast','correlation','inverse_difference_moments','entropy'\n",
    "            ]\n",
    "    df = pd.DataFrame([], columns=names)\n",
    "    for file in img_files:\n",
    "        imgpath = ds_path + \"\\\\\" + file\n",
    "        main_img = cv2.imread(imgpath)\n",
    "        \n",
    "        #Preprocessing\n",
    "        img = cv2.cvtColor(main_img, cv2.COLOR_BGR2RGB)\n",
    "        gs = cv2.cvtColor(img,cv2.COLOR_RGB2GRAY)\n",
    "        blur = cv2.GaussianBlur(gs, (25,25),0)\n",
    "        ret_otsu,im_bw_otsu = cv2.threshold(blur,0,255,cv2.THRESH_BINARY_INV+cv2.THRESH_OTSU)\n",
    "        kernel = np.ones((50,50),np.uint8)\n",
    "        closing = cv2.morphologyEx(im_bw_otsu, cv2.MORPH_CLOSE, kernel)\n",
    "        \n",
    "         #Texture features\n",
    "        textures = mt.features.haralick(gs)\n",
    "        ht_mean = textures.mean(axis=0)\n",
    "        contrast = ht_mean[1]\n",
    "        correlation = ht_mean[2]\n",
    "        inverse_diff_moments = ht_mean[4]\n",
    "        entropy = ht_mean[8]\n",
    "        \n",
    "        vector = [\n",
    "                  contrast,correlation,inverse_diff_moments,entropy\n",
    "                 ]\n",
    "        \n",
    "        "
   ]
  },
  {
   "cell_type": "code",
   "execution_count": null,
   "metadata": {},
   "outputs": [],
   "source": [
    "\n",
    "        "
   ]
  },
  {
   "cell_type": "code",
   "execution_count": null,
   "metadata": {},
   "outputs": [],
   "source": []
  }
 ],
 "metadata": {
  "kernelspec": {
   "display_name": "Python 3",
   "language": "python",
   "name": "python3"
  },
  "language_info": {
   "codemirror_mode": {
    "name": "ipython",
    "version": 3
   },
   "file_extension": ".py",
   "mimetype": "text/x-python",
   "name": "python",
   "nbconvert_exporter": "python",
   "pygments_lexer": "ipython3",
   "version": "3.7.6"
  }
 },
 "nbformat": 4,
 "nbformat_minor": 4
}
